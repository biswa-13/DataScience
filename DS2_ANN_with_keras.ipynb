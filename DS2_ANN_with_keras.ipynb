{
  "nbformat": 4,
  "nbformat_minor": 0,
  "metadata": {
    "colab": {
      "name": "DS2_ANN_with_keras.ipynb",
      "provenance": [],
      "collapsed_sections": [],
      "authorship_tag": "ABX9TyNTl1l9tywuxkdnpOcpakcI",
      "include_colab_link": true
    },
    "kernelspec": {
      "name": "python3",
      "display_name": "Python 3"
    }
  },
  "cells": [
    {
      "cell_type": "markdown",
      "metadata": {
        "id": "view-in-github",
        "colab_type": "text"
      },
      "source": [
        "<a href=\"https://colab.research.google.com/github/biswa-13/DataScience/blob/master/DS2_ANN_with_keras.ipynb\" target=\"_parent\"><img src=\"https://colab.research.google.com/assets/colab-badge.svg\" alt=\"Open In Colab\"/></a>"
      ]
    },
    {
      "cell_type": "code",
      "metadata": {
        "id": "0gFv7IKNKcFJ",
        "colab_type": "code",
        "colab": {}
      },
      "source": [
        "# This notebook going to demonstrate a step by step overview of Bank Customer Continuity Prediction, \n",
        "# here we are going to perform the Predictive Analysis  with the Artficial Neural Network and \n",
        "# finally we will aslo perform the hyper parameter tunning.\n",
        "# Reference: \n",
        "# - https://github.com/krishnaik06/Complete-Deep-Learning/blob/master/ANN/ann.py\n",
        "# - https://www.youtube.com/watch?v=OTTOglLJxLU&list=PLZoTAELRMXVPGU70ZGsckrMdr0FteeRUi&index=17\n",
        "\n",
        "# Steps:\n",
        "# - Download the dataset from https://github.com/biswa-13/DataScience/blob/master/datasets/bank_customer_details.csv\n",
        "# - Explore the data and remove the columns which are not going to help in our prediction\n",
        "# - Then convert the categorical data into numerical data\n",
        "# - Prepare the training and testing dataset\n",
        "# - Create an ANN model\n",
        "# - Compile and Train the model\n",
        "# - Test the model\n",
        "# - Perform HyperPArameter tunning"
      ],
      "execution_count": null,
      "outputs": []
    },
    {
      "cell_type": "code",
      "metadata": {
        "id": "lpDptTD3HKf9",
        "colab_type": "code",
        "colab": {}
      },
      "source": [
        "!pip install keras"
      ],
      "execution_count": null,
      "outputs": []
    },
    {
      "cell_type": "code",
      "metadata": {
        "id": "r1EjbJfUHPPB",
        "colab_type": "code",
        "colab": {
          "base_uri": "https://localhost:8080/",
          "height": 35
        },
        "outputId": "65288bc5-6a0a-46d3-855d-c0dfd9f0539a"
      },
      "source": [
        "# importing required libraries for handling the data\n",
        "import numpy as np\n",
        "import matplotlib.pyplot as plt\n",
        "import pandas as pd\n",
        "import seaborn as sbn\n",
        "from sklearn.model_selection import train_test_split\n",
        "from sklearn.preprocessing import StandardScaler\n",
        "from sklearn.metrics import confusion_matrix, accuracy_score\n",
        "\n",
        "# required libraries for ANN\n",
        "import keras\n",
        "from keras.models import Sequential\n",
        "from keras.layers import Layer, Dense, LeakyReLU, Dropout\n",
        "\n",
        "print(\"Finish: Importing of libraries...\")"
      ],
      "execution_count": 109,
      "outputs": [
        {
          "output_type": "stream",
          "text": [
            "Finish: Importing of libraries...\n"
          ],
          "name": "stdout"
        }
      ]
    },
    {
      "cell_type": "code",
      "metadata": {
        "id": "P77wIs4KMeQi",
        "colab_type": "code",
        "colab": {
          "base_uri": "https://localhost:8080/",
          "height": 35
        },
        "outputId": "640f161f-2e16-4647-fa82-016b5e335bd3"
      },
      "source": [
        "# Load the dataset\n",
        "dataset3 = pd.read_csv(\"sample_data/bank_customer_details.csv\")\n",
        "print(\"Finish: Load the dataset...\")"
      ],
      "execution_count": 97,
      "outputs": [
        {
          "output_type": "stream",
          "text": [
            "Finish: Load the dataset...\n"
          ],
          "name": "stdout"
        }
      ]
    },
    {
      "cell_type": "code",
      "metadata": {
        "id": "xXp5_O82MuX1",
        "colab_type": "code",
        "colab": {
          "base_uri": "https://localhost:8080/",
          "height": 399
        },
        "outputId": "7f59f07c-9929-4294-c999-4170c50de20c"
      },
      "source": [
        "# Expolre the dataset\n",
        "dataset3.info()\n",
        "# dataset.head()\n",
        "# We can find that we have below mentioned columns \n",
        "## RowNumber\tCustomerId\tSurname\tCreditScore\tGeography\t\n",
        "## Gender\tAge\tTenure\tBalance\tNumOfProducts\tHasCrCard\t\n",
        "## IsActiveMember\tEstimatedSalary\tExited\n",
        "# among which \"Exited\" is the dependent variable and others are independent variables.\n",
        "# here we have clean non-null data in every column therefore we dont need perform the Imputation,\n",
        "# instead we can dircetly jump towards removing the unwanted columns \n",
        "# and converting the categorical feature into numerial feature."
      ],
      "execution_count": 98,
      "outputs": [
        {
          "output_type": "stream",
          "text": [
            "<class 'pandas.core.frame.DataFrame'>\n",
            "RangeIndex: 10000 entries, 0 to 9999\n",
            "Data columns (total 14 columns):\n",
            " #   Column           Non-Null Count  Dtype  \n",
            "---  ------           --------------  -----  \n",
            " 0   RowNumber        10000 non-null  int64  \n",
            " 1   CustomerId       10000 non-null  int64  \n",
            " 2   Surname          10000 non-null  object \n",
            " 3   CreditScore      10000 non-null  int64  \n",
            " 4   Geography        10000 non-null  object \n",
            " 5   Gender           10000 non-null  object \n",
            " 6   Age              10000 non-null  int64  \n",
            " 7   Tenure           10000 non-null  int64  \n",
            " 8   Balance          10000 non-null  float64\n",
            " 9   NumOfProducts    10000 non-null  int64  \n",
            " 10  HasCrCard        10000 non-null  int64  \n",
            " 11  IsActiveMember   10000 non-null  int64  \n",
            " 12  EstimatedSalary  10000 non-null  float64\n",
            " 13  Exited           10000 non-null  int64  \n",
            "dtypes: float64(2), int64(9), object(3)\n",
            "memory usage: 1.1+ MB\n"
          ],
          "name": "stdout"
        }
      ]
    },
    {
      "cell_type": "code",
      "metadata": {
        "id": "jgzfhOWXP0qO",
        "colab_type": "code",
        "colab": {}
      },
      "source": [
        "sbn.countplot(x=(\"Geography\"),hue=\"Gender\", data=dataset3)"
      ],
      "execution_count": null,
      "outputs": []
    },
    {
      "cell_type": "code",
      "metadata": {
        "id": "QGoCqEVwRLln",
        "colab_type": "code",
        "colab": {}
      },
      "source": [
        "# Formatting data\n",
        "new_geography = pd.get_dummies(dataset3['Geography'], drop_first=True)\n",
        "new_geography.info()\n",
        "# new_geography.head()\n",
        "new_gender = pd.get_dummies(dataset3[\"Gender\"], drop_first=True)\n",
        "new_gender.info()\n",
        "# new_gender.head()\n",
        "# removing the unwanted columns like \"CustomerId\", \"Surname\"\n",
        "dataset3.drop([\"RowNumber\",\"CustomerId\", \"Surname\", \"Geography\", \"Gender\"], axis=1, inplace= True)\n",
        "dataset3.info()\n",
        "print(\"Finish: Formatting data...\")"
      ],
      "execution_count": null,
      "outputs": []
    },
    {
      "cell_type": "code",
      "metadata": {
        "id": "cXC3CPM4Tpc8",
        "colab_type": "code",
        "colab": {}
      },
      "source": [
        "# preparing the final dataset\n",
        "\n",
        "dataset3 = pd.concat([dataset3, new_geography, new_gender], axis=1)\n",
        "dataset3.info()\n",
        "dataset3.head()\n",
        "print(\"Finish: preparing the final dataset...\" )"
      ],
      "execution_count": null,
      "outputs": []
    },
    {
      "cell_type": "code",
      "metadata": {
        "id": "6sW-8yXVVBXd",
        "colab_type": "code",
        "colab": {}
      },
      "source": [
        "# preparing training and testig dataset\n",
        "train_input,  test_input, train_output, test_output = train_test_split(\n",
        "    dataset3.drop([\"Exited\"], axis=1),\n",
        "    dataset3[\"Exited\"],\n",
        "    test_size = .30,\n",
        "    random_state = 101\n",
        ")\n",
        "train_input.info()\n",
        "test_input.info()\n",
        "train_output.head()\n",
        "test_output.head()\n",
        "print(\"Finish: preparing training and testig dataset...\")"
      ],
      "execution_count": null,
      "outputs": []
    },
    {
      "cell_type": "code",
      "metadata": {
        "id": "383o9pUygHsU",
        "colab_type": "code",
        "colab": {
          "base_uri": "https://localhost:8080/",
          "height": 35
        },
        "outputId": "071ad926-771f-4ee6-d5b6-e3c909d313a0"
      },
      "source": [
        "# Feature Scaling\n",
        "sc = StandardScaler()\n",
        "train_input = sc.fit_transform(train_input)\n",
        "test_input = sc.fit_transform(test_input)\n",
        "print(\"Finish: Feature Scaling...\")"
      ],
      "execution_count": 102,
      "outputs": [
        {
          "output_type": "stream",
          "text": [
            "Finish: Feature Scaling...\n"
          ],
          "name": "stdout"
        }
      ]
    },
    {
      "cell_type": "code",
      "metadata": {
        "id": "F1gBfvwzhQ13",
        "colab_type": "code",
        "colab": {
          "base_uri": "https://localhost:8080/",
          "height": 35
        },
        "outputId": "d0d60c17-3a62-4703-c782-bf5f54937e9d"
      },
      "source": [
        "# Creating the ANN model\n",
        "\n",
        "model = Sequential()\n",
        "# adding the first hidden layer\n",
        "model.add(Dense(units=6, input_dim=11, activation=\"relu\", kernel_initializer='he_uniform' ))\n",
        "\n",
        "# adding the second hidden layer\n",
        "model.add(Dense(units=6, activation=\"relu\", kernel_initializer=\"he_uniform\"  ))\n",
        "\n",
        "# adding the output layer\n",
        "model.add(Dense(units=1, activation = \"sigmoid\", kernel_initializer= \"glorot_uniform\"))\n",
        "\n",
        "print(\"Finish: Creating the ANN model...\")"
      ],
      "execution_count": 103,
      "outputs": [
        {
          "output_type": "stream",
          "text": [
            "Finish: Creating the ANN model...\n"
          ],
          "name": "stdout"
        }
      ]
    },
    {
      "cell_type": "code",
      "metadata": {
        "id": "cC-1jVukjom7",
        "colab_type": "code",
        "colab": {
          "base_uri": "https://localhost:8080/",
          "height": 35
        },
        "outputId": "90ef46d0-72c9-4b53-d02d-973f7680deeb"
      },
      "source": [
        "# Compiling the model\n",
        "summary = model.compile(\n",
        "    optimizer=\"Adamax\",\n",
        "    loss=\"binary_crossentropy\",\n",
        "    metrics=[\"accuracy\"]\n",
        ")\n",
        "print(\"Finish:  Compiling the model...\")"
      ],
      "execution_count": 104,
      "outputs": [
        {
          "output_type": "stream",
          "text": [
            "Finish:  Compiling the model...\n"
          ],
          "name": "stdout"
        }
      ]
    },
    {
      "cell_type": "code",
      "metadata": {
        "id": "Lnc4JI1Gl6c2",
        "colab_type": "code",
        "colab": {}
      },
      "source": [
        "# Training the model\n",
        "history = model.fit(\n",
        "    x = train_input,\n",
        "    y = train_output,\n",
        "    batch_size = 20,\n",
        "    epochs=90,\n",
        "    validation_split=.23,\n",
        "\n",
        ")\n",
        "\n",
        "print(\"Finish: # Training the model...\")"
      ],
      "execution_count": null,
      "outputs": []
    },
    {
      "cell_type": "code",
      "metadata": {
        "id": "pZtOXTONvxLO",
        "colab_type": "code",
        "colab": {}
      },
      "source": [
        "# Plotting the accuracy graph\n",
        "def plotGraph(history, string):\n",
        "  plt.xlabel(\"epochs\")\n",
        "  plt.ylabel(string)\n",
        "  plt.plot(history.history[string])\n",
        "  plt.plot(history.history[\"val_\"+string])\n",
        "  plt.legend(['train','test'])\n",
        "  plt.show()"
      ],
      "execution_count": 111,
      "outputs": []
    },
    {
      "cell_type": "code",
      "metadata": {
        "id": "hfqxLkGDw05n",
        "colab_type": "code",
        "colab": {
          "base_uri": "https://localhost:8080/",
          "height": 541
        },
        "outputId": "458d055b-c97e-417c-d55d-0a8cee8c9f82"
      },
      "source": [
        "# Demonstrating the accuracy of the model\n",
        "plotGraph(history,\"accuracy\")\n",
        "plotGraph(history,\"loss\")\n",
        "\n"
      ],
      "execution_count": 112,
      "outputs": [
        {
          "output_type": "display_data",
          "data": {
            "image/png": "[encoded data removed]",
            "text/plain": [
              "<Figure size 432x288 with 1 Axes>"
            ]
          },
          "metadata": {
            "tags": [],
            "needs_background": "light"
          }
        },
        {
          "output_type": "display_data",
          "data": {
            "image/png": "[encoded data removed]",
            "text/plain": [
              "<Figure size 432x288 with 1 Axes>"
            ]
          },
          "metadata": {
            "tags": [],
            "needs_background": "light"
          }
        }
      ]
    },
    {
      "cell_type": "code",
      "metadata": {
        "id": "zBYGoKHixm7Z",
        "colab_type": "code",
        "colab": {
          "base_uri": "https://localhost:8080/",
          "height": 72
        },
        "outputId": "edb65f1e-c83b-42fd-d19a-c3e2f9a22287"
      },
      "source": [
        "# Accuracy measurement of the model\n",
        "pred_reslt = model.predict(test_input)\n",
        "pred_reslt = (pred_reslt > 0.5)\n",
        "# Confusion Matrix\n",
        "conf_mtrx = confusion_matrix(test_output, pred_reslt)\n",
        "\n",
        "# Accuracy Score\n",
        "acc_score = accuracy_score(test_output, pred_reslt)\n",
        "\n",
        "print(\"Confusion Matrix -->\",conf_mtrx)\n",
        "print(\"Accuracy Score -->\",acc_score)"
      ],
      "execution_count": 114,
      "outputs": [
        {
          "output_type": "stream",
          "text": [
            "Confusion Matrix --> [[2286   92]\n",
            " [ 356  266]]\n",
            "Accuracy Score --> 0.8506666666666667\n"
          ],
          "name": "stdout"
        }
      ]
    }
  ]
}