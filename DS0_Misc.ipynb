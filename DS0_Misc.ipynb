{
  "nbformat": 4,
  "nbformat_minor": 0,
  "metadata": {
    "colab": {
      "name": "DS0_Misc.ipynb",
      "provenance": [],
      "collapsed_sections": [],
      "authorship_tag": "ABX9TyMxNuxuqYdPfYCyvzrYydPj",
      "include_colab_link": true
    },
    "kernelspec": {
      "name": "python3",
      "display_name": "Python 3"
    }
  },
  "cells": [
    {
      "cell_type": "markdown",
      "metadata": {
        "id": "view-in-github",
        "colab_type": "text"
      },
      "source": [
        "<a href=\"https://colab.research.google.com/github/biswa-13/DataScience/blob/master/DS0_Misc.ipynb\" target=\"_parent\"><img src=\"https://colab.research.google.com/assets/colab-badge.svg\" alt=\"Open In Colab\"/></a>"
      ]
    },
    {
      "cell_type": "markdown",
      "metadata": {
        "id": "Y5udgij1qgFA",
        "colab_type": "text"
      },
      "source": [
        "This notebook is going to contain various utility functions and code snippests that can be used in diffrent DataScience projects.\n"
      ]
    },
    {
      "cell_type": "code",
      "metadata": {
        "id": "6uhPMb6PqaOD",
        "colab_type": "code",
        "colab": {}
      },
      "source": [
        "# Plotting a graph for displaying model training accuracy \n",
        "import matplotlib.pyplot as plt \n",
        "\n",
        "def plotGraph(history, string):\n",
        "  plt.xlabel(\"epochs\")\n",
        "  plt.ylabel(string)\n",
        "  plt.plot(history.history[string])\n",
        "  plt.plot(history.history[\"val_\"+string])\n",
        "  plt.legend(['train','test'])\n",
        "  plt.show()\n",
        "\n",
        "# calling the function\n",
        "plotGraph(history,\"accuracy\")\n",
        "plotGraph(history,\"loss\")"
      ],
      "execution_count": null,
      "outputs": []
    },
    {
      "cell_type": "code",
      "metadata": {
        "id": "o928ofF9vPug",
        "colab_type": "code",
        "colab": {}
      },
      "source": [
        "# Feature Scaling for train and test dataset before sending them to the model\n",
        "from sklearn.preprocessing import StandardScaler\n",
        "\n",
        "ss = StandardScaler()\n",
        "train_input = ss.fit_transform(train_input)\n",
        "test_input = ss.fit_transform(test_input)"
      ],
      "execution_count": null,
      "outputs": []
    },
    {
      "cell_type": "code",
      "metadata": {
        "id": "iSFYdcmZss3t",
        "colab_type": "code",
        "colab": {}
      },
      "source": [
        "# Creating train and test inputs using sklearn\n",
        "from sklearn.model_selection import train_test_split\n",
        "\n",
        "train_input,  test_input, train_output, test_output = train_test_split(\n",
        "    dataset3.drop([\"category_column\"], axis=1), # category_column: column containg the class which needs to be predicted\n",
        "    dataset3[\"category_column\"],\n",
        "    test_size = .30,\n",
        "    random_state = 101\n",
        ")"
      ],
      "execution_count": null,
      "outputs": []
    },
    {
      "cell_type": "code",
      "metadata": {
        "id": "MYPqL8fcqfYG",
        "colab_type": "code",
        "colab": {}
      },
      "source": [
        "# Drawing Confusion Matrix and model accuracy score\n",
        "from sklearn.metrics import confusion_matrix, accuracy_score\n",
        "\n",
        "pred_result = model.predict(test_input) # model: your ML model, test_input: test input dataset\n",
        "pred_result = (pred_result > 0.5)\n",
        "\n",
        "# confusion matrix\n",
        "conf_mtrx = confusion_matrix(test_output, pred_reslt)\n",
        "\n",
        "# accuracy score\n",
        "acrcy_score = accuracy_score(test_output, pred_reslt)"
      ],
      "execution_count": null,
      "outputs": []
    }
  ]
}