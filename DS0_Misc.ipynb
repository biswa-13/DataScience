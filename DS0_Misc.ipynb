{
  "nbformat": 4,
  "nbformat_minor": 0,
  "metadata": {
    "colab": {
      "name": "DS0_Misc.ipynb",
      "provenance": [],
      "collapsed_sections": [],
      "authorship_tag": "ABX9TyMm45lJICnERl7qzSPJ0DWu",
      "include_colab_link": true
    },
    "kernelspec": {
      "name": "python3",
      "display_name": "Python 3"
    }
  },
  "cells": [
    {
      "cell_type": "markdown",
      "metadata": {
        "id": "view-in-github",
        "colab_type": "text"
      },
      "source": [
        "<a href=\"https://colab.research.google.com/github/biswa-13/DataScience/blob/master/DS0_Misc.ipynb\" target=\"_parent\"><img src=\"https://colab.research.google.com/assets/colab-badge.svg\" alt=\"Open In Colab\"/></a>"
      ]
    },
    {
      "cell_type": "markdown",
      "metadata": {
        "id": "Y5udgij1qgFA",
        "colab_type": "text"
      },
      "source": [
        "This notebook is going to contain various utility functions and code snippests that can be used in diffrent DataScience projects.\n"
      ]
    },
    {
      "cell_type": "code",
      "metadata": {
        "id": "U2QDp_HfuSh_",
        "colab_type": "code",
        "colab": {}
      },
      "source": [
        "# To know the GPU Name and GPU informations that has been used in google colab\n",
        "\n",
        "import tensorflow as tf\n",
        "\n",
        "# GPU Device Name\n",
        "tf.test.gpu_device_name()\n",
        "\n",
        "# GPU information currently in use"
      ],
      "execution_count": null,
      "outputs": []
    },
    {
      "cell_type": "code",
      "metadata": {
        "id": "6uhPMb6PqaOD",
        "colab_type": "code",
        "colab": {}
      },
      "source": [
        "# Plotting a graph for displaying model training accuracy \n",
        "import matplotlib.pyplot as plt \n",
        "\n",
        "def plotGraph(history, string):\n",
        "  plt.xlabel(\"epochs\")\n",
        "  plt.ylabel(string)\n",
        "  plt.plot(history.history[string])\n",
        "  plt.plot(history.history[\"val_\"+string])\n",
        "  plt.legend(['train','test'])\n",
        "  plt.show()\n",
        "\n",
        "# calling the function\n",
        "plotGraph(history,\"accuracy\")\n",
        "plotGraph(history,\"loss\")"
      ],
      "execution_count": null,
      "outputs": []
    },
    {
      "cell_type": "code",
      "metadata": {
        "id": "o928ofF9vPug",
        "colab_type": "code",
        "colab": {}
      },
      "source": [
        "# Feature Scaling for train and test dataset before sending them to the model\n",
        "from sklearn.preprocessing import StandardScaler\n",
        "\n",
        "ss = StandardScaler()\n",
        "train_input = ss.fit_transform(train_input)\n",
        "test_input = ss.fit_transform(test_input)"
      ],
      "execution_count": null,
      "outputs": []
    },
    {
      "cell_type": "code",
      "metadata": {
        "id": "iSFYdcmZss3t",
        "colab_type": "code",
        "colab": {}
      },
      "source": [
        "# Creating train and test inputs from the dataset using sklearn\n",
        "from sklearn.model_selection import train_test_split\n",
        "\n",
        "train_input,  test_input, train_output, test_output = train_test_split(\n",
        "    dataset3.drop([\"category_column\"], axis=1), # category_column: column containg the class which needs to be predicted\n",
        "    dataset3[\"category_column\"],\n",
        "    test_size = .30,\n",
        "    random_state = 101\n",
        ")"
      ],
      "execution_count": null,
      "outputs": []
    },
    {
      "cell_type": "code",
      "metadata": {
        "id": "MYPqL8fcqfYG",
        "colab_type": "code",
        "colab": {}
      },
      "source": [
        "# Drawing Confusion Matrix and model accuracy score\n",
        "from sklearn.metrics import confusion_matrix, accuracy_score\n",
        "\n",
        "pred_result = model.predict(test_input) # model: your ML model, test_input: test input dataset\n",
        "pred_result = (pred_result > 0.5)\n",
        "\n",
        "# confusion matrix\n",
        "conf_mtrx = confusion_matrix(test_output, pred_reslt)\n",
        "\n",
        "# accuracy score\n",
        "acrcy_score = accuracy_score(test_output, pred_reslt)"
      ],
      "execution_count": null,
      "outputs": []
    },
    {
      "cell_type": "code",
      "metadata": {
        "id": "dCMFOQ2qrkJF",
        "colab_type": "code",
        "colab": {}
      },
      "source": [
        "# Saving a keras model\n",
        "modelName = \"sign_detector.h5\"\n",
        "model.save(modelName)"
      ],
      "execution_count": null,
      "outputs": []
    },
    {
      "cell_type": "code",
      "metadata": {
        "id": "H-G195T0NPCG",
        "colab_type": "code",
        "colab": {}
      },
      "source": [
        "# callback function to judge the training procedure\n",
        "my_callbacks = [\n",
        "    tf.keras.callbacks.EarlyStopping(monitor='val_loss',patience=2),\n",
        "    tf.keras.callbacks.ModelCheckpoint(filepath='model.{epoch:02d}-{val_loss:.2f}.h5'),\n",
        "    tf.keras.callbacks.TensorBoard(log_dir='./logs'),\n",
        "]\n",
        "\n",
        "# example\n",
        "model.fit(dataset, epochs=10, callbacks=my_callbacks)"
      ],
      "execution_count": null,
      "outputs": []
    },
    {
      "cell_type": "code",
      "metadata": {
        "id": "rOJ2S5Vv16KG",
        "colab_type": "code",
        "colab": {}
      },
      "source": [
        "## Convert a Keras *.h5 model to *.onnx model\n",
        "\n",
        "# install required packages\n",
        "!pip install -r \"sample_data/requirements.txt\"\n",
        "\n",
        "# The above command is going to install below mentioned libraries/packages\n",
        "# numpy\n",
        "# protobuf\n",
        "# requests\n",
        "# onnx\n",
        "# onnxconverter-common>=1.7.0\n",
        "# fire\n",
        "\n",
        "# import required packages\n",
        "from tensorflow.python.keras import backend as K\n",
        "from tensorflow.python.keras.models import load_model\n",
        "import onnx\n",
        "import keras2onnx\n",
        "\n",
        "onnx_model_name = \"R1_ISLR_model_V2_1_2_3.onnx\" #'fish-resnet50.onnx'\n",
        "\n",
        "model =   load_model(\"sample_data/R1_ISLR_model_V2_input_ 1_2_3.h5\") #load_model('model-resnet50-final.h5')\n",
        "onnx_model = keras2onnx.convert_keras(model, model.name)\n",
        "onnx.save_model(onnx_model, onnx_model_name)\n",
        "\n",
        "print(\"Thank God it Finished Succesfully ...\")"
      ],
      "execution_count": null,
      "outputs": []
    }
  ]
}