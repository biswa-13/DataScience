{
  "nbformat": 4,
  "nbformat_minor": 0,
  "metadata": {
    "colab": {
      "name": "DS3_ANN_Tensorflow.ipynb",
      "provenance": [],
      "collapsed_sections": [],
      "authorship_tag": "ABX9TyN24OprO6orJ75aHsu3ef6N",
      "include_colab_link": true
    },
    "kernelspec": {
      "name": "python3",
      "display_name": "Python 3"
    }
  },
  "cells": [
    {
      "cell_type": "markdown",
      "metadata": {
        "id": "view-in-github",
        "colab_type": "text"
      },
      "source": [
        "<a href=\"https://colab.research.google.com/github/biswa-13/DataScience/blob/master/DS3_ANN_Tensorflow.ipynb\" target=\"_parent\"><img src=\"https://colab.research.google.com/assets/colab-badge.svg\" alt=\"Open In Colab\"/></a>"
      ]
    },
    {
      "cell_type": "code",
      "metadata": {
        "id": "-NpZ4QEzoGiG",
        "colab_type": "code",
        "colab": {}
      },
      "source": [
        "# In this section we will try to predict the probability of a passenger alive or not using the titanic dataset \n",
        "# here we have applied all the steps for data cleaning and preprocessing and finally used the tensorflow model for our prediction_rslt\n",
        "\n",
        "# references:\n",
        "# dataset : https://github.com/biswa-13/DataScience/blob/master/datasets/titanic_dataset.csv"
      ],
      "execution_count": null,
      "outputs": []
    },
    {
      "cell_type": "code",
      "metadata": {
        "id": "TsVChkV3VN3V",
        "colab_type": "code",
        "colab": {}
      },
      "source": [
        "import numpy as np\n",
        "import pandas as pd\n",
        "import seaborn as sbn\n",
        "import matplotlib.pyplot as plt\n",
        "from sklearn.model_selection import train_test_split\n",
        "from sklearn.metrics import confusion_matrix, accuracy_score\n",
        "from sklearn.preprocessing import StandardScaler\n",
        "\n",
        "import tensorflow as tf\n",
        "import tensorflow.keras\n",
        "from tensorflow.keras import Sequential, Model\n"
      ],
      "execution_count": null,
      "outputs": []
    },
    {
      "cell_type": "code",
      "metadata": {
        "id": "VbBt6IIQWQKG",
        "colab_type": "code",
        "colab": {}
      },
      "source": [
        "dataset3 = pd.read_csv(\"sample_data/titanic_dataset.csv\")"
      ],
      "execution_count": null,
      "outputs": []
    },
    {
      "cell_type": "code",
      "metadata": {
        "id": "xDFtXnZcWeQ9",
        "colab_type": "code",
        "colab": {
          "base_uri": "https://localhost:8080/",
          "height": 363
        },
        "outputId": "dc4fd2d0-2a31-43e3-b699-cefe6bdf4a46"
      },
      "source": [
        "# dataset3.head()\n",
        "dataset3.info()"
      ],
      "execution_count": null,
      "outputs": [
        {
          "output_type": "stream",
          "text": [
            "<class 'pandas.core.frame.DataFrame'>\n",
            "RangeIndex: 891 entries, 0 to 890\n",
            "Data columns (total 12 columns):\n",
            " #   Column       Non-Null Count  Dtype  \n",
            "---  ------       --------------  -----  \n",
            " 0   PassengerId  891 non-null    int64  \n",
            " 1   Survived     891 non-null    int64  \n",
            " 2   Pclass       891 non-null    int64  \n",
            " 3   Name         891 non-null    object \n",
            " 4   Sex          891 non-null    object \n",
            " 5   Age          714 non-null    float64\n",
            " 6   SibSp        891 non-null    int64  \n",
            " 7   Parch        891 non-null    int64  \n",
            " 8   Ticket       891 non-null    object \n",
            " 9   Fare         891 non-null    float64\n",
            " 10  Cabin        204 non-null    object \n",
            " 11  Embarked     889 non-null    object \n",
            "dtypes: float64(2), int64(5), object(5)\n",
            "memory usage: 83.7+ KB\n"
          ],
          "name": "stdout"
        }
      ]
    },
    {
      "cell_type": "code",
      "metadata": {
        "id": "j0t3yJkMWn_P",
        "colab_type": "code",
        "colab": {
          "base_uri": "https://localhost:8080/",
          "height": 338
        },
        "outputId": "d8e3832e-b221-4851-f136-258b6acd3a12"
      },
      "source": [
        "sbn.heatmap(dataset3.isnull(), yticklabels=False)"
      ],
      "execution_count": null,
      "outputs": [
        {
          "output_type": "execute_result",
          "data": {
            "text/plain": [
              "<matplotlib.axes._subplots.AxesSubplot at 0x7fad62d302e8>"
            ]
          },
          "metadata": {
            "tags": []
          },
          "execution_count": 6
        },
        {
          "output_type": "display_data",
          "data": {
            "image/png": "[encoded data removed]",
            "text/plain": [
              "<Figure size 432x288 with 2 Axes>"
            ]
          },
          "metadata": {
            "tags": [],
            "needs_background": "light"
          }
        }
      ]
    },
    {
      "cell_type": "code",
      "metadata": {
        "id": "6g_VQFreX1fP",
        "colab_type": "code",
        "colab": {
          "base_uri": "https://localhost:8080/",
          "height": 297
        },
        "outputId": "274e72ff-a4bc-4777-babe-d3820616c6f2"
      },
      "source": [
        "sbn.boxplot(x=\"Pclass\", y = \"Age\", data=dataset3)"
      ],
      "execution_count": null,
      "outputs": [
        {
          "output_type": "execute_result",
          "data": {
            "text/plain": [
              "<matplotlib.axes._subplots.AxesSubplot at 0x7fad61c81390>"
            ]
          },
          "metadata": {
            "tags": []
          },
          "execution_count": 7
        },
        {
          "output_type": "display_data",
          "data": {
            "image/png": "[encoded data removed]",
            "text/plain": [
              "<Figure size 432x288 with 1 Axes>"
            ]
          },
          "metadata": {
            "tags": [],
            "needs_background": "light"
          }
        }
      ]
    },
    {
      "cell_type": "code",
      "metadata": {
        "id": "8iN0mx_OYjcM",
        "colab_type": "code",
        "colab": {
          "base_uri": "https://localhost:8080/",
          "height": 35
        },
        "outputId": "b3197fde-0679-4cc8-9818-9786f8949eea"
      },
      "source": [
        "def impute_age_wrt_pclass(cols):\n",
        "  age = cols[\"Age\"]\n",
        "  clas = cols[\"Pclass\"]\n",
        "  if(pd.isnull(age)):\n",
        "    if(clas == 1):\n",
        "      return 37\n",
        "    elif(clas == 2):\n",
        "      return 28\n",
        "    elif(clas == 3):\n",
        "      return 26\n",
        "    else:\n",
        "      return 26\n",
        "  else:\n",
        "    return age\n",
        "print(\"Finish: defining the imputation method()\")"
      ],
      "execution_count": null,
      "outputs": [
        {
          "output_type": "stream",
          "text": [
            "Finish: defining the imputation method()\n"
          ],
          "name": "stdout"
        }
      ]
    },
    {
      "cell_type": "code",
      "metadata": {
        "id": "4Fgq1nXyaOCs",
        "colab_type": "code",
        "colab": {
          "base_uri": "https://localhost:8080/",
          "height": 381
        },
        "outputId": "e8619f84-e401-416c-e34a-8f4f0208b546"
      },
      "source": [
        "dataset3[\"Age\"] = dataset3[[\"Age\",\"Pclass\"]].apply(impute_age_wrt_pclass, axis =1)\n",
        "print(\"Finish: performing the imputation on the missing values of the Age\")\n",
        "dataset3.info()"
      ],
      "execution_count": null,
      "outputs": [
        {
          "output_type": "stream",
          "text": [
            "Finish: performing the imputation on the missing values of the Age\n",
            "<class 'pandas.core.frame.DataFrame'>\n",
            "RangeIndex: 891 entries, 0 to 890\n",
            "Data columns (total 12 columns):\n",
            " #   Column       Non-Null Count  Dtype  \n",
            "---  ------       --------------  -----  \n",
            " 0   PassengerId  891 non-null    int64  \n",
            " 1   Survived     891 non-null    int64  \n",
            " 2   Pclass       891 non-null    int64  \n",
            " 3   Name         891 non-null    object \n",
            " 4   Sex          891 non-null    object \n",
            " 5   Age          891 non-null    float64\n",
            " 6   SibSp        891 non-null    int64  \n",
            " 7   Parch        891 non-null    int64  \n",
            " 8   Ticket       891 non-null    object \n",
            " 9   Fare         891 non-null    float64\n",
            " 10  Cabin        204 non-null    object \n",
            " 11  Embarked     889 non-null    object \n",
            "dtypes: float64(2), int64(5), object(5)\n",
            "memory usage: 83.7+ KB\n"
          ],
          "name": "stdout"
        }
      ]
    },
    {
      "cell_type": "code",
      "metadata": {
        "id": "PLGWHcUbvmKy",
        "colab_type": "code",
        "colab": {
          "base_uri": "https://localhost:8080/",
          "height": 647
        },
        "outputId": "2638cc80-e658-4dd7-d3c8-7369ae644e2f"
      },
      "source": [
        "# finding for \"NA\" values and removing the rows\n",
        "sbn.heatmap(dataset3.isna())\n",
        "dataset3.drop([\"Cabin\"], inplace=True, axis=1)\n",
        "dataset3.dropna(inplace=True)\n",
        "dataset3.info()"
      ],
      "execution_count": null,
      "outputs": [
        {
          "output_type": "stream",
          "text": [
            "<class 'pandas.core.frame.DataFrame'>\n",
            "Int64Index: 889 entries, 0 to 890\n",
            "Data columns (total 11 columns):\n",
            " #   Column       Non-Null Count  Dtype  \n",
            "---  ------       --------------  -----  \n",
            " 0   PassengerId  889 non-null    int64  \n",
            " 1   Survived     889 non-null    int64  \n",
            " 2   Pclass       889 non-null    int64  \n",
            " 3   Name         889 non-null    object \n",
            " 4   Sex          889 non-null    object \n",
            " 5   Age          889 non-null    float64\n",
            " 6   SibSp        889 non-null    int64  \n",
            " 7   Parch        889 non-null    int64  \n",
            " 8   Ticket       889 non-null    object \n",
            " 9   Fare         889 non-null    float64\n",
            " 10  Embarked     889 non-null    object \n",
            "dtypes: float64(2), int64(5), object(4)\n",
            "memory usage: 83.3+ KB\n"
          ],
          "name": "stdout"
        },
        {
          "output_type": "display_data",
          "data": {
            "image/png": "[encoded data removed]",
            "text/plain": [
              "<Figure size 432x288 with 2 Axes>"
            ]
          },
          "metadata": {
            "tags": [],
            "needs_background": "light"
          }
        }
      ]
    },
    {
      "cell_type": "code",
      "metadata": {
        "id": "INxGr24SwCM6",
        "colab_type": "code",
        "colab": {
          "base_uri": "https://localhost:8080/",
          "height": 345
        },
        "outputId": "c474dd15-a4be-4831-b946-652ea5be2d8f"
      },
      "source": [
        "# removing the \"na\" values and converting the categorical columns(Embarked, Sex) into feature columns\n",
        "\n",
        "embarked = pd.get_dummies(dataset3[\"Embarked\"], drop_first=True)\n",
        "sex = pd.get_dummies(dataset3[\"Sex\"], drop_first=True)\n",
        "embarked.head()\n",
        "sex.head()\n",
        "dataset3.info()"
      ],
      "execution_count": null,
      "outputs": [
        {
          "output_type": "stream",
          "text": [
            "<class 'pandas.core.frame.DataFrame'>\n",
            "Int64Index: 889 entries, 0 to 890\n",
            "Data columns (total 11 columns):\n",
            " #   Column       Non-Null Count  Dtype  \n",
            "---  ------       --------------  -----  \n",
            " 0   PassengerId  889 non-null    int64  \n",
            " 1   Survived     889 non-null    int64  \n",
            " 2   Pclass       889 non-null    int64  \n",
            " 3   Name         889 non-null    object \n",
            " 4   Sex          889 non-null    object \n",
            " 5   Age          889 non-null    float64\n",
            " 6   SibSp        889 non-null    int64  \n",
            " 7   Parch        889 non-null    int64  \n",
            " 8   Ticket       889 non-null    object \n",
            " 9   Fare         889 non-null    float64\n",
            " 10  Embarked     889 non-null    object \n",
            "dtypes: float64(2), int64(5), object(4)\n",
            "memory usage: 83.3+ KB\n"
          ],
          "name": "stdout"
        }
      ]
    },
    {
      "cell_type": "code",
      "metadata": {
        "id": "olzY2dB4wzpR",
        "colab_type": "code",
        "colab": {
          "base_uri": "https://localhost:8080/",
          "height": 254
        },
        "outputId": "034952ad-b0bb-4cde-ead8-9079b4ebf4ce"
      },
      "source": [
        "# removing the unwanted columns \n",
        "dataset3.drop(['PassengerId',\"Name\",\"Sex\",\"Ticket\",\"Embarked\"], axis=1, inplace=True)\n",
        "dataset3.info()"
      ],
      "execution_count": null,
      "outputs": [
        {
          "output_type": "stream",
          "text": [
            "<class 'pandas.core.frame.DataFrame'>\n",
            "Int64Index: 889 entries, 0 to 890\n",
            "Data columns (total 6 columns):\n",
            " #   Column    Non-Null Count  Dtype  \n",
            "---  ------    --------------  -----  \n",
            " 0   Survived  889 non-null    int64  \n",
            " 1   Pclass    889 non-null    int64  \n",
            " 2   Age       889 non-null    float64\n",
            " 3   SibSp     889 non-null    int64  \n",
            " 4   Parch     889 non-null    int64  \n",
            " 5   Fare      889 non-null    float64\n",
            "dtypes: float64(2), int64(4)\n",
            "memory usage: 48.6 KB\n"
          ],
          "name": "stdout"
        }
      ]
    },
    {
      "cell_type": "code",
      "metadata": {
        "id": "my6D6D6YyWwz",
        "colab_type": "code",
        "colab": {
          "base_uri": "https://localhost:8080/",
          "height": 308
        },
        "outputId": "95e7479a-4673-4129-d990-012ea4aee048"
      },
      "source": [
        "# concantenating the newly created columns\n",
        "dataset3 = pd.concat([dataset3, embarked, sex], axis=1)\n",
        "dataset3.info()\n"
      ],
      "execution_count": null,
      "outputs": [
        {
          "output_type": "stream",
          "text": [
            "<class 'pandas.core.frame.DataFrame'>\n",
            "Int64Index: 889 entries, 0 to 890\n",
            "Data columns (total 9 columns):\n",
            " #   Column    Non-Null Count  Dtype  \n",
            "---  ------    --------------  -----  \n",
            " 0   Survived  889 non-null    int64  \n",
            " 1   Pclass    889 non-null    int64  \n",
            " 2   Age       889 non-null    float64\n",
            " 3   SibSp     889 non-null    int64  \n",
            " 4   Parch     889 non-null    int64  \n",
            " 5   Fare      889 non-null    float64\n",
            " 6   Q         889 non-null    uint8  \n",
            " 7   S         889 non-null    uint8  \n",
            " 8   male      889 non-null    uint8  \n",
            "dtypes: float64(2), int64(4), uint8(3)\n",
            "memory usage: 51.2 KB\n"
          ],
          "name": "stdout"
        }
      ]
    },
    {
      "cell_type": "code",
      "metadata": {
        "id": "vS-QuJ9wzHGH",
        "colab_type": "code",
        "colab": {
          "base_uri": "https://localhost:8080/",
          "height": 198
        },
        "outputId": "28648e5d-66fa-45c6-b2ec-e2ebe10a1c78"
      },
      "source": [
        "dataset3.head()"
      ],
      "execution_count": null,
      "outputs": [
        {
          "output_type": "execute_result",
          "data": {
            "text/html": [
              "<div>\n",
              "<style scoped>\n",
              "    .dataframe tbody tr th:only-of-type {\n",
              "        vertical-align: middle;\n",
              "    }\n",
              "\n",
              "    .dataframe tbody tr th {\n",
              "        vertical-align: top;\n",
              "    }\n",
              "\n",
              "    .dataframe thead th {\n",
              "        text-align: right;\n",
              "    }\n",
              "</style>\n",
              "<table border=\"1\" class=\"dataframe\">\n",
              "  <thead>\n",
              "    <tr style=\"text-align: right;\">\n",
              "      <th></th>\n",
              "      <th>Survived</th>\n",
              "      <th>Pclass</th>\n",
              "      <th>Age</th>\n",
              "      <th>SibSp</th>\n",
              "      <th>Parch</th>\n",
              "      <th>Fare</th>\n",
              "      <th>Q</th>\n",
              "      <th>S</th>\n",
              "      <th>male</th>\n",
              "    </tr>\n",
              "  </thead>\n",
              "  <tbody>\n",
              "    <tr>\n",
              "      <th>0</th>\n",
              "      <td>0</td>\n",
              "      <td>3</td>\n",
              "      <td>22.0</td>\n",
              "      <td>1</td>\n",
              "      <td>0</td>\n",
              "      <td>7.2500</td>\n",
              "      <td>0</td>\n",
              "      <td>1</td>\n",
              "      <td>1</td>\n",
              "    </tr>\n",
              "    <tr>\n",
              "      <th>1</th>\n",
              "      <td>1</td>\n",
              "      <td>1</td>\n",
              "      <td>38.0</td>\n",
              "      <td>1</td>\n",
              "      <td>0</td>\n",
              "      <td>71.2833</td>\n",
              "      <td>0</td>\n",
              "      <td>0</td>\n",
              "      <td>0</td>\n",
              "    </tr>\n",
              "    <tr>\n",
              "      <th>2</th>\n",
              "      <td>1</td>\n",
              "      <td>3</td>\n",
              "      <td>26.0</td>\n",
              "      <td>0</td>\n",
              "      <td>0</td>\n",
              "      <td>7.9250</td>\n",
              "      <td>0</td>\n",
              "      <td>1</td>\n",
              "      <td>0</td>\n",
              "    </tr>\n",
              "    <tr>\n",
              "      <th>3</th>\n",
              "      <td>1</td>\n",
              "      <td>1</td>\n",
              "      <td>35.0</td>\n",
              "      <td>1</td>\n",
              "      <td>0</td>\n",
              "      <td>53.1000</td>\n",
              "      <td>0</td>\n",
              "      <td>1</td>\n",
              "      <td>0</td>\n",
              "    </tr>\n",
              "    <tr>\n",
              "      <th>4</th>\n",
              "      <td>0</td>\n",
              "      <td>3</td>\n",
              "      <td>35.0</td>\n",
              "      <td>0</td>\n",
              "      <td>0</td>\n",
              "      <td>8.0500</td>\n",
              "      <td>0</td>\n",
              "      <td>1</td>\n",
              "      <td>1</td>\n",
              "    </tr>\n",
              "  </tbody>\n",
              "</table>\n",
              "</div>"
            ],
            "text/plain": [
              "   Survived  Pclass   Age  SibSp  Parch     Fare  Q  S  male\n",
              "0         0       3  22.0      1      0   7.2500  0  1     1\n",
              "1         1       1  38.0      1      0  71.2833  0  0     0\n",
              "2         1       3  26.0      0      0   7.9250  0  1     0\n",
              "3         1       1  35.0      1      0  53.1000  0  1     0\n",
              "4         0       3  35.0      0      0   8.0500  0  1     1"
            ]
          },
          "metadata": {
            "tags": []
          },
          "execution_count": 14
        }
      ]
    },
    {
      "cell_type": "code",
      "metadata": {
        "id": "qtck-lc54oHb",
        "colab_type": "code",
        "colab": {
          "base_uri": "https://localhost:8080/",
          "height": 563
        },
        "outputId": "b9b7a000-3405-40bd-fbea-bfef888db768"
      },
      "source": [
        "# preparing the training and testing dataset\n",
        "train_input, test_input, train_output, test_output = train_test_split(\n",
        "    dataset3.drop([\"Survived\"], axis=1),\n",
        "    dataset3[\"Survived\"],\n",
        "    test_size = .30,\n",
        "    random_state = 101\n",
        ")\n",
        "train_input.info()\n",
        "test_input.info()"
      ],
      "execution_count": null,
      "outputs": [
        {
          "output_type": "stream",
          "text": [
            "<class 'pandas.core.frame.DataFrame'>\n",
            "Int64Index: 622 entries, 807 to 865\n",
            "Data columns (total 8 columns):\n",
            " #   Column  Non-Null Count  Dtype  \n",
            "---  ------  --------------  -----  \n",
            " 0   Pclass  622 non-null    int64  \n",
            " 1   Age     622 non-null    float64\n",
            " 2   SibSp   622 non-null    int64  \n",
            " 3   Parch   622 non-null    int64  \n",
            " 4   Fare    622 non-null    float64\n",
            " 5   Q       622 non-null    uint8  \n",
            " 6   S       622 non-null    uint8  \n",
            " 7   male    622 non-null    uint8  \n",
            "dtypes: float64(2), int64(3), uint8(3)\n",
            "memory usage: 31.0 KB\n",
            "<class 'pandas.core.frame.DataFrame'>\n",
            "Int64Index: 267 entries, 511 to 634\n",
            "Data columns (total 8 columns):\n",
            " #   Column  Non-Null Count  Dtype  \n",
            "---  ------  --------------  -----  \n",
            " 0   Pclass  267 non-null    int64  \n",
            " 1   Age     267 non-null    float64\n",
            " 2   SibSp   267 non-null    int64  \n",
            " 3   Parch   267 non-null    int64  \n",
            " 4   Fare    267 non-null    float64\n",
            " 5   Q       267 non-null    uint8  \n",
            " 6   S       267 non-null    uint8  \n",
            " 7   male    267 non-null    uint8  \n",
            "dtypes: float64(2), int64(3), uint8(3)\n",
            "memory usage: 13.3 KB\n"
          ],
          "name": "stdout"
        }
      ]
    },
    {
      "cell_type": "code",
      "metadata": {
        "id": "myhUDQOL6F_3",
        "colab_type": "code",
        "colab": {
          "base_uri": "https://localhost:8080/",
          "height": 35
        },
        "outputId": "05e82777-017e-4c8a-f870-ccb4bfa17d51"
      },
      "source": [
        "# Scalling the inputs\n",
        "\n",
        "ss = StandardScaler()\n",
        "train_input = ss.fit_transform(train_input)\n",
        "test_input = ss.fit_transform(test_input)\n",
        "print(\"Finish: Scalling the inputs\")"
      ],
      "execution_count": null,
      "outputs": [
        {
          "output_type": "stream",
          "text": [
            "Finish: Scalling the inputs\n"
          ],
          "name": "stdout"
        }
      ]
    },
    {
      "cell_type": "code",
      "metadata": {
        "id": "1k3Lr1r59Kk8",
        "colab_type": "code",
        "colab": {
          "base_uri": "https://localhost:8080/",
          "height": 35
        },
        "outputId": "8c760d10-2138-45bb-b2cf-3eb3f1cf5da7"
      },
      "source": [
        "# Creating the tensorflow model for prediction\n",
        "model = tf.keras.Sequential()\n",
        "model.add(tf.keras.layers.Dense(6, activation=\"relu\", kernel_initializer=\"he_uniform\", input_dim=8))\n",
        "model.add(tf.keras.layers.Dense(units=6, activation=\"relu\", kernel_initializer=\"he_uniform\"))\n",
        "# model.add(tf.keras.layers.Dense(units=3, activation=\"relu\", kernel_initializer=\"he_uniform\"))\n",
        "model.add(tf.keras.layers.Dense(units=1, activation=\"sigmoid\", kernel_initializer=\"glorot_uniform\"))\n",
        "\n",
        "print(\"Finish: Creating the Model layers...\")"
      ],
      "execution_count": null,
      "outputs": [
        {
          "output_type": "stream",
          "text": [
            "Finish: Creating the Model layers...\n"
          ],
          "name": "stdout"
        }
      ]
    },
    {
      "cell_type": "code",
      "metadata": {
        "id": "SdJyRIwCBama",
        "colab_type": "code",
        "colab": {
          "base_uri": "https://localhost:8080/",
          "height": 35
        },
        "outputId": "f4bb2fde-fee4-4043-b3a2-1efc48ab5066"
      },
      "source": [
        "# Compiling the model\n",
        "summery = model.compile(\n",
        "    optimizer = 'rmsprop',\n",
        "    loss = \"binary_crossentropy\",\n",
        "    metrics = [\"accuracy\"]\n",
        ")\n",
        "summery\n",
        "print(\"finish: Compiling the model ...\")"
      ],
      "execution_count": null,
      "outputs": [
        {
          "output_type": "stream",
          "text": [
            "finish: Compiling the model ...\n"
          ],
          "name": "stdout"
        }
      ]
    },
    {
      "cell_type": "code",
      "metadata": {
        "id": "BCN0JwGiD9y_",
        "colab_type": "code",
        "colab": {}
      },
      "source": [
        "# defining the callback function which will watch the validation loss and if it sees\n",
        "# that continously for 3 times the val_accuracy does not increases then it will stopped\n",
        "callback = tf.keras.callbacks.EarlyStopping(monitor='val_loss', patience=3)\n"
      ],
      "execution_count": null,
      "outputs": []
    },
    {
      "cell_type": "code",
      "metadata": {
        "id": "8vAj0yBlDW3L",
        "colab_type": "code",
        "colab": {
          "base_uri": "https://localhost:8080/",
          "height": 1000
        },
        "outputId": "0b25d54e-6a08-4ea4-b24a-6000f774d21b"
      },
      "source": [
        "# Trainging the model\n",
        "history = model.fit(train_input, train_output, batch_size=32, validation_split=0.32, epochs=230, callbacks=[callback])\n",
        "print(\"\\n\\n Finish: Trainging the model...\")"
      ],
      "execution_count": null,
      "outputs": [
        {
          "output_type": "stream",
          "text": [
            "Epoch 1/230\n",
            "14/14 [==============================] - 0s 11ms/step - loss: 0.6976 - accuracy: 0.6137 - val_loss: 0.6925 - val_accuracy: 0.6550\n",
            "Epoch 2/230\n",
            "14/14 [==============================] - 0s 4ms/step - loss: 0.6643 - accuracy: 0.6232 - val_loss: 0.6642 - val_accuracy: 0.6900\n",
            "Epoch 3/230\n",
            "14/14 [==============================] - 0s 4ms/step - loss: 0.6405 - accuracy: 0.6517 - val_loss: 0.6465 - val_accuracy: 0.7000\n",
            "Epoch 4/230\n",
            "14/14 [==============================] - 0s 4ms/step - loss: 0.6224 - accuracy: 0.6754 - val_loss: 0.6291 - val_accuracy: 0.7100\n",
            "Epoch 5/230\n",
            "14/14 [==============================] - 0s 4ms/step - loss: 0.6048 - accuracy: 0.6848 - val_loss: 0.6139 - val_accuracy: 0.7300\n",
            "Epoch 6/230\n",
            "14/14 [==============================] - 0s 4ms/step - loss: 0.5914 - accuracy: 0.7014 - val_loss: 0.6014 - val_accuracy: 0.7350\n",
            "Epoch 7/230\n",
            "14/14 [==============================] - 0s 4ms/step - loss: 0.5787 - accuracy: 0.7109 - val_loss: 0.5914 - val_accuracy: 0.7350\n",
            "Epoch 8/230\n",
            "14/14 [==============================] - 0s 4ms/step - loss: 0.5698 - accuracy: 0.7133 - val_loss: 0.5830 - val_accuracy: 0.7400\n",
            "Epoch 9/230\n",
            "14/14 [==============================] - 0s 4ms/step - loss: 0.5619 - accuracy: 0.7180 - val_loss: 0.5751 - val_accuracy: 0.7400\n",
            "Epoch 10/230\n",
            "14/14 [==============================] - 0s 4ms/step - loss: 0.5542 - accuracy: 0.7156 - val_loss: 0.5677 - val_accuracy: 0.7350\n",
            "Epoch 11/230\n",
            "14/14 [==============================] - 0s 4ms/step - loss: 0.5475 - accuracy: 0.7227 - val_loss: 0.5612 - val_accuracy: 0.7300\n",
            "Epoch 12/230\n",
            "14/14 [==============================] - 0s 4ms/step - loss: 0.5413 - accuracy: 0.7251 - val_loss: 0.5544 - val_accuracy: 0.7250\n",
            "Epoch 13/230\n",
            "14/14 [==============================] - 0s 5ms/step - loss: 0.5355 - accuracy: 0.7322 - val_loss: 0.5492 - val_accuracy: 0.7300\n",
            "Epoch 14/230\n",
            "14/14 [==============================] - 0s 4ms/step - loss: 0.5310 - accuracy: 0.7393 - val_loss: 0.5445 - val_accuracy: 0.7400\n",
            "Epoch 15/230\n",
            "14/14 [==============================] - 0s 4ms/step - loss: 0.5263 - accuracy: 0.7393 - val_loss: 0.5391 - val_accuracy: 0.7400\n",
            "Epoch 16/230\n",
            "14/14 [==============================] - 0s 5ms/step - loss: 0.5216 - accuracy: 0.7464 - val_loss: 0.5350 - val_accuracy: 0.7400\n",
            "Epoch 17/230\n",
            "14/14 [==============================] - 0s 4ms/step - loss: 0.5177 - accuracy: 0.7464 - val_loss: 0.5316 - val_accuracy: 0.7400\n",
            "Epoch 18/230\n",
            "14/14 [==============================] - 0s 4ms/step - loss: 0.5136 - accuracy: 0.7536 - val_loss: 0.5268 - val_accuracy: 0.7400\n",
            "Epoch 19/230\n",
            "14/14 [==============================] - 0s 4ms/step - loss: 0.5094 - accuracy: 0.7583 - val_loss: 0.5239 - val_accuracy: 0.7400\n",
            "Epoch 20/230\n",
            "14/14 [==============================] - 0s 4ms/step - loss: 0.5062 - accuracy: 0.7654 - val_loss: 0.5207 - val_accuracy: 0.7450\n",
            "Epoch 21/230\n",
            "14/14 [==============================] - 0s 4ms/step - loss: 0.5027 - accuracy: 0.7630 - val_loss: 0.5177 - val_accuracy: 0.7550\n",
            "Epoch 22/230\n",
            "14/14 [==============================] - 0s 4ms/step - loss: 0.4992 - accuracy: 0.7654 - val_loss: 0.5151 - val_accuracy: 0.7550\n",
            "Epoch 23/230\n",
            "14/14 [==============================] - 0s 4ms/step - loss: 0.4958 - accuracy: 0.7630 - val_loss: 0.5125 - val_accuracy: 0.7550\n",
            "Epoch 24/230\n",
            "14/14 [==============================] - 0s 4ms/step - loss: 0.4928 - accuracy: 0.7630 - val_loss: 0.5093 - val_accuracy: 0.7550\n",
            "Epoch 25/230\n",
            "14/14 [==============================] - 0s 4ms/step - loss: 0.4895 - accuracy: 0.7654 - val_loss: 0.5070 - val_accuracy: 0.7500\n",
            "Epoch 26/230\n",
            "14/14 [==============================] - 0s 5ms/step - loss: 0.4868 - accuracy: 0.7654 - val_loss: 0.5049 - val_accuracy: 0.7600\n",
            "Epoch 27/230\n",
            "14/14 [==============================] - 0s 4ms/step - loss: 0.4839 - accuracy: 0.7725 - val_loss: 0.5030 - val_accuracy: 0.7700\n",
            "Epoch 28/230\n",
            "14/14 [==============================] - 0s 4ms/step - loss: 0.4822 - accuracy: 0.7725 - val_loss: 0.5010 - val_accuracy: 0.7750\n",
            "Epoch 29/230\n",
            "14/14 [==============================] - 0s 4ms/step - loss: 0.4791 - accuracy: 0.7725 - val_loss: 0.4995 - val_accuracy: 0.7750\n",
            "Epoch 30/230\n",
            "14/14 [==============================] - 0s 4ms/step - loss: 0.4772 - accuracy: 0.7678 - val_loss: 0.4973 - val_accuracy: 0.8000\n",
            "Epoch 31/230\n",
            "14/14 [==============================] - 0s 4ms/step - loss: 0.4750 - accuracy: 0.7773 - val_loss: 0.4944 - val_accuracy: 0.8000\n",
            "Epoch 32/230\n",
            "14/14 [==============================] - 0s 4ms/step - loss: 0.4723 - accuracy: 0.7725 - val_loss: 0.4927 - val_accuracy: 0.7950\n",
            "Epoch 33/230\n",
            "14/14 [==============================] - 0s 4ms/step - loss: 0.4704 - accuracy: 0.7749 - val_loss: 0.4902 - val_accuracy: 0.7900\n",
            "Epoch 34/230\n",
            "14/14 [==============================] - 0s 4ms/step - loss: 0.4681 - accuracy: 0.7749 - val_loss: 0.4886 - val_accuracy: 0.7900\n",
            "Epoch 35/230\n",
            "14/14 [==============================] - 0s 4ms/step - loss: 0.4667 - accuracy: 0.7749 - val_loss: 0.4864 - val_accuracy: 0.7900\n",
            "Epoch 36/230\n",
            "14/14 [==============================] - 0s 4ms/step - loss: 0.4646 - accuracy: 0.7725 - val_loss: 0.4855 - val_accuracy: 0.7900\n",
            "Epoch 37/230\n",
            "14/14 [==============================] - 0s 4ms/step - loss: 0.4627 - accuracy: 0.7725 - val_loss: 0.4836 - val_accuracy: 0.7850\n",
            "Epoch 38/230\n",
            "14/14 [==============================] - 0s 4ms/step - loss: 0.4609 - accuracy: 0.7820 - val_loss: 0.4825 - val_accuracy: 0.7900\n",
            "Epoch 39/230\n",
            "14/14 [==============================] - 0s 4ms/step - loss: 0.4595 - accuracy: 0.7844 - val_loss: 0.4811 - val_accuracy: 0.7900\n",
            "Epoch 40/230\n",
            "14/14 [==============================] - 0s 4ms/step - loss: 0.4584 - accuracy: 0.7891 - val_loss: 0.4790 - val_accuracy: 0.7850\n",
            "Epoch 41/230\n",
            "14/14 [==============================] - 0s 4ms/step - loss: 0.4568 - accuracy: 0.7891 - val_loss: 0.4775 - val_accuracy: 0.7900\n",
            "Epoch 42/230\n",
            "14/14 [==============================] - 0s 4ms/step - loss: 0.4555 - accuracy: 0.7844 - val_loss: 0.4772 - val_accuracy: 0.7850\n",
            "Epoch 43/230\n",
            "14/14 [==============================] - 0s 4ms/step - loss: 0.4546 - accuracy: 0.7891 - val_loss: 0.4766 - val_accuracy: 0.7850\n",
            "Epoch 44/230\n",
            "14/14 [==============================] - 0s 4ms/step - loss: 0.4533 - accuracy: 0.7891 - val_loss: 0.4757 - val_accuracy: 0.7850\n",
            "Epoch 45/230\n",
            "14/14 [==============================] - 0s 4ms/step - loss: 0.4526 - accuracy: 0.7891 - val_loss: 0.4747 - val_accuracy: 0.7850\n",
            "Epoch 46/230\n",
            "14/14 [==============================] - 0s 4ms/step - loss: 0.4516 - accuracy: 0.7867 - val_loss: 0.4745 - val_accuracy: 0.7850\n",
            "Epoch 47/230\n",
            "14/14 [==============================] - 0s 4ms/step - loss: 0.4508 - accuracy: 0.7891 - val_loss: 0.4735 - val_accuracy: 0.7850\n",
            "Epoch 48/230\n",
            "14/14 [==============================] - 0s 4ms/step - loss: 0.4499 - accuracy: 0.7938 - val_loss: 0.4723 - val_accuracy: 0.7850\n",
            "Epoch 49/230\n",
            "14/14 [==============================] - 0s 4ms/step - loss: 0.4487 - accuracy: 0.7915 - val_loss: 0.4724 - val_accuracy: 0.7850\n",
            "Epoch 50/230\n",
            "14/14 [==============================] - 0s 4ms/step - loss: 0.4482 - accuracy: 0.7962 - val_loss: 0.4714 - val_accuracy: 0.7850\n",
            "Epoch 51/230\n",
            "14/14 [==============================] - 0s 4ms/step - loss: 0.4477 - accuracy: 0.7962 - val_loss: 0.4703 - val_accuracy: 0.7800\n",
            "Epoch 52/230\n",
            "14/14 [==============================] - 0s 4ms/step - loss: 0.4465 - accuracy: 0.7938 - val_loss: 0.4703 - val_accuracy: 0.7800\n",
            "Epoch 53/230\n",
            "14/14 [==============================] - 0s 4ms/step - loss: 0.4459 - accuracy: 0.7938 - val_loss: 0.4695 - val_accuracy: 0.7800\n",
            "Epoch 54/230\n",
            "14/14 [==============================] - 0s 4ms/step - loss: 0.4454 - accuracy: 0.7986 - val_loss: 0.4693 - val_accuracy: 0.7800\n",
            "Epoch 55/230\n",
            "14/14 [==============================] - 0s 4ms/step - loss: 0.4446 - accuracy: 0.7962 - val_loss: 0.4687 - val_accuracy: 0.7800\n",
            "Epoch 56/230\n",
            "14/14 [==============================] - 0s 4ms/step - loss: 0.4442 - accuracy: 0.7938 - val_loss: 0.4693 - val_accuracy: 0.7800\n",
            "Epoch 57/230\n",
            "14/14 [==============================] - 0s 4ms/step - loss: 0.4436 - accuracy: 0.7962 - val_loss: 0.4681 - val_accuracy: 0.7800\n",
            "Epoch 58/230\n",
            "14/14 [==============================] - 0s 4ms/step - loss: 0.4433 - accuracy: 0.7986 - val_loss: 0.4681 - val_accuracy: 0.7800\n",
            "Epoch 59/230\n",
            "14/14 [==============================] - 0s 4ms/step - loss: 0.4428 - accuracy: 0.7986 - val_loss: 0.4678 - val_accuracy: 0.7800\n",
            "Epoch 60/230\n",
            "14/14 [==============================] - 0s 4ms/step - loss: 0.4428 - accuracy: 0.7986 - val_loss: 0.4671 - val_accuracy: 0.7850\n",
            "Epoch 61/230\n",
            "14/14 [==============================] - 0s 4ms/step - loss: 0.4421 - accuracy: 0.7986 - val_loss: 0.4667 - val_accuracy: 0.7850\n",
            "Epoch 62/230\n",
            "14/14 [==============================] - 0s 4ms/step - loss: 0.4415 - accuracy: 0.7986 - val_loss: 0.4670 - val_accuracy: 0.7850\n",
            "Epoch 63/230\n",
            "14/14 [==============================] - 0s 4ms/step - loss: 0.4409 - accuracy: 0.7986 - val_loss: 0.4663 - val_accuracy: 0.7850\n",
            "Epoch 64/230\n",
            "14/14 [==============================] - 0s 4ms/step - loss: 0.4411 - accuracy: 0.7986 - val_loss: 0.4662 - val_accuracy: 0.7850\n",
            "Epoch 65/230\n",
            "14/14 [==============================] - 0s 5ms/step - loss: 0.4406 - accuracy: 0.8009 - val_loss: 0.4657 - val_accuracy: 0.7850\n",
            "Epoch 66/230\n",
            "14/14 [==============================] - 0s 4ms/step - loss: 0.4405 - accuracy: 0.8009 - val_loss: 0.4654 - val_accuracy: 0.7850\n",
            "Epoch 67/230\n",
            "14/14 [==============================] - 0s 4ms/step - loss: 0.4395 - accuracy: 0.8009 - val_loss: 0.4648 - val_accuracy: 0.7850\n",
            "Epoch 68/230\n",
            "14/14 [==============================] - 0s 5ms/step - loss: 0.4393 - accuracy: 0.8009 - val_loss: 0.4646 - val_accuracy: 0.7850\n",
            "Epoch 69/230\n",
            "14/14 [==============================] - 0s 4ms/step - loss: 0.4394 - accuracy: 0.8009 - val_loss: 0.4642 - val_accuracy: 0.7850\n",
            "Epoch 70/230\n",
            "14/14 [==============================] - 0s 4ms/step - loss: 0.4390 - accuracy: 0.7986 - val_loss: 0.4638 - val_accuracy: 0.7850\n",
            "Epoch 71/230\n",
            "14/14 [==============================] - 0s 4ms/step - loss: 0.4385 - accuracy: 0.8009 - val_loss: 0.4640 - val_accuracy: 0.7850\n",
            "Epoch 72/230\n",
            "14/14 [==============================] - 0s 5ms/step - loss: 0.4380 - accuracy: 0.7986 - val_loss: 0.4640 - val_accuracy: 0.7850\n",
            "Epoch 73/230\n",
            "14/14 [==============================] - 0s 4ms/step - loss: 0.4380 - accuracy: 0.8009 - val_loss: 0.4637 - val_accuracy: 0.7850\n",
            "Epoch 74/230\n",
            "14/14 [==============================] - 0s 4ms/step - loss: 0.4376 - accuracy: 0.8009 - val_loss: 0.4639 - val_accuracy: 0.7850\n",
            "Epoch 75/230\n",
            "14/14 [==============================] - 0s 4ms/step - loss: 0.4376 - accuracy: 0.8033 - val_loss: 0.4630 - val_accuracy: 0.7850\n",
            "Epoch 76/230\n",
            "14/14 [==============================] - 0s 4ms/step - loss: 0.4369 - accuracy: 0.8009 - val_loss: 0.4632 - val_accuracy: 0.7850\n",
            "Epoch 77/230\n",
            "14/14 [==============================] - 0s 4ms/step - loss: 0.4367 - accuracy: 0.8033 - val_loss: 0.4622 - val_accuracy: 0.7900\n",
            "Epoch 78/230\n",
            "14/14 [==============================] - 0s 4ms/step - loss: 0.4363 - accuracy: 0.8033 - val_loss: 0.4616 - val_accuracy: 0.7900\n",
            "Epoch 79/230\n",
            "14/14 [==============================] - 0s 4ms/step - loss: 0.4362 - accuracy: 0.8057 - val_loss: 0.4609 - val_accuracy: 0.7900\n",
            "Epoch 80/230\n",
            "14/14 [==============================] - 0s 4ms/step - loss: 0.4360 - accuracy: 0.8009 - val_loss: 0.4611 - val_accuracy: 0.7900\n",
            "Epoch 81/230\n",
            "14/14 [==============================] - 0s 4ms/step - loss: 0.4353 - accuracy: 0.8033 - val_loss: 0.4606 - val_accuracy: 0.8000\n",
            "Epoch 82/230\n",
            "14/14 [==============================] - 0s 5ms/step - loss: 0.4353 - accuracy: 0.8081 - val_loss: 0.4609 - val_accuracy: 0.7900\n",
            "Epoch 83/230\n",
            "14/14 [==============================] - 0s 4ms/step - loss: 0.4344 - accuracy: 0.8081 - val_loss: 0.4607 - val_accuracy: 0.8000\n",
            "Epoch 84/230\n",
            "14/14 [==============================] - 0s 4ms/step - loss: 0.4344 - accuracy: 0.8128 - val_loss: 0.4610 - val_accuracy: 0.7900\n",
            "\n",
            "\n",
            " Finish: Trainging the model...\n"
          ],
          "name": "stdout"
        }
      ]
    },
    {
      "cell_type": "code",
      "metadata": {
        "id": "XoyKovNpEQ16",
        "colab_type": "code",
        "colab": {}
      },
      "source": [
        "def plot_graph(history, string):\n",
        "  plt.plot(history.history[string])\n",
        "  plt.plot(history.history[\"val_\"+string])\n",
        "  plt.xlabel(\"epochs\")\n",
        "  plt.ylabel(string)\n",
        "  plt.legend([\"train\", \"test\"])\n",
        "  plt.show() "
      ],
      "execution_count": null,
      "outputs": []
    },
    {
      "cell_type": "code",
      "metadata": {
        "id": "o1Zhn8pSF1gJ",
        "colab_type": "code",
        "colab": {
          "base_uri": "https://localhost:8080/",
          "height": 541
        },
        "outputId": "8164fc11-d2c3-4d4e-d858-ce089ce51366"
      },
      "source": [
        "plot_graph(history, \"accuracy\")\n",
        "plot_graph(history, \"loss\")"
      ],
      "execution_count": null,
      "outputs": [
        {
          "output_type": "display_data",
          "data": {
            "image/png": "[encoded data removed]",
            "text/plain": [
              "<Figure size 432x288 with 1 Axes>"
            ]
          },
          "metadata": {
            "tags": [],
            "needs_background": "light"
          }
        },
        {
          "output_type": "display_data",
          "data": {
            "image/png": "[encoded data removed]",
            "text/plain": [
              "<Figure size 432x288 with 1 Axes>"
            ]
          },
          "metadata": {
            "tags": [],
            "needs_background": "light"
          }
        }
      ]
    },
    {
      "cell_type": "code",
      "metadata": {
        "id": "3Nbjy8cVGMrt",
        "colab_type": "code",
        "colab": {
          "base_uri": "https://localhost:8080/",
          "height": 90
        },
        "outputId": "9c1a64d0-1f90-4512-d918-054f3632a304"
      },
      "source": [
        "# Model Accuracy Prediction\n",
        "\n",
        "prediction_rslt = model.predict(test_input)\n",
        "prediction_rslt = (prediction_rslt > 0.5)\n",
        "\n",
        "# confusion matrix\n",
        "cm = confusion_matrix(test_output, prediction_rslt)\n",
        "print(\"Confusion Matrix -->\\n\",cm)\n",
        "\n",
        "accuracy = accuracy_score(test_output, prediction_rslt)\n",
        "print(\"Model Accuracy Is: \",accuracy)"
      ],
      "execution_count": null,
      "outputs": [
        {
          "output_type": "stream",
          "text": [
            "Confusion Matrix -->\n",
            " [[140  23]\n",
            " [ 30  74]]\n",
            "Model Accuracy Is:  0.8014981273408239\n"
          ],
          "name": "stdout"
        }
      ]
    }
  ]
}