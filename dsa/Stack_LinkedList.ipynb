{
 "cells": [
  {
   "cell_type": "code",
   "execution_count": 1,
   "id": "d659dfcc-1753-427b-b282-0d6c092a7f7a",
   "metadata": {},
   "outputs": [],
   "source": [
    "class Node:\n",
    "    def __init__(self, data, next = None):\n",
    "        self.data = data\n",
    "        self.next = next\n",
    "        \n",
    "    def getData(self):\n",
    "        return self.data\n",
    "    \n",
    "    def setData(self, data):\n",
    "        self.data = data\n",
    "        \n",
    "    def setNext(self, next):\n",
    "        self.next = next\n",
    "        \n",
    "    def getNext(self):\n",
    "        return self.next\n",
    "         \n",
    "        \n",
    "        "
   ]
  },
  {
   "cell_type": "code",
   "execution_count": null,
   "id": "26b3456e-105f-4ad9-b4da-0f66e4c92a75",
   "metadata": {},
   "outputs": [],
   "source": [
    "class StackLL:\n",
    "    def __init__(self):\n",
    "        self.head = None\n",
    "    \n",
    "    def isEmpty(self):\n",
    "        return self.head == None\n",
    "    \n",
    "    def push(self, data):\n",
    "        node = Node(data)\n",
    "        node.setNext(self.head)\n",
    "        self.head = node\n",
    "        \n",
    "    def pop(self):\n",
    "        if(self.isEmpty()):\n",
    "            print(\"Stack Underflow ...\")\n",
    "            return\n",
    "        data = self.head.getData()\n",
    "        self.head = self.head.getNext()\n",
    "        return data\n",
    "    \n",
    "    def peek(self):\n",
    "        if(self.isEmpty()):\n",
    "            print(\"Stack is Empty ...\")\n",
    "            return\n",
    "        return self.head.getData()\n",
    "    \n",
    "    def size(self):\n",
    "        size = 0\n",
    "        temp = self.head\n",
    "        while(temp):\n",
    "            size += 1\n",
    "            temp = temp.getNext()\n",
    "        return size\n",
    "    \n",
    "    def traverse(self):\n",
    "        size = 0\n",
    "        temp = self.head\n",
    "        while(temp):\n",
    "            print(temp.getData(), end=\"->\")\n",
    "            temp = temp.getNext()\n",
    "            \n",
    "                  "
   ]
  },
  {
   "cell_type": "code",
   "execution_count": null,
   "id": "53531a67-d301-4892-b4ef-190cf0a99541",
   "metadata": {},
   "outputs": [],
   "source": [
    "stack = StackLL(5)"
   ]
  },
  {
   "cell_type": "code",
   "execution_count": null,
   "id": "f7b54f80-6c3c-455c-bc30-c2baa17e3b80",
   "metadata": {},
   "outputs": [],
   "source": [
    "stack.push(131)\n",
    "srtack.push(14)\n",
    "stack.push(34)"
   ]
  },
  {
   "cell_type": "code",
   "execution_count": null,
   "id": "36d45260-a372-4cee-bf5c-e2dba700ca04",
   "metadata": {},
   "outputs": [],
   "source": [
    "stack.traverse()"
   ]
  },
  {
   "cell_type": "code",
   "execution_count": null,
   "id": "4d77a0f2-b1d6-4244-9960-0eeae705982c",
   "metadata": {},
   "outputs": [],
   "source": []
  },
  {
   "cell_type": "code",
   "execution_count": null,
   "id": "07f07d13-d32f-45ac-a537-979dbb589b98",
   "metadata": {},
   "outputs": [],
   "source": [
    "def areBracketsBalanced(exp):\n",
    "    \n",
    "    #Define a stack object\n",
    "    stack = StackLL()\n",
    "    \n",
    "   #iterate through each bracket type\n",
    "    for c in exp:\n",
    "        if c in ['(', '{', '[']:\n",
    "            stack.push(c)\n",
    "        else:\n",
    "            char = stack.pop()\n",
    "            if char == '(' and c != ')':\n",
    "                return False\n",
    "            elif char == '{' and c != '}':\n",
    "                return False\n",
    "            elif char == '[' and c != ']':\n",
    "                return False\n",
    "    \n",
    "    return stack.isEmpty()\n",
    "            \n",
    "        \n",
    "    "
   ]
  }
 ],
 "metadata": {
  "kernelspec": {
   "display_name": "Python 3 (ipykernel)",
   "language": "python",
   "name": "python3"
  },
  "language_info": {
   "codemirror_mode": {
    "name": "ipython",
    "version": 3
   },
   "file_extension": ".py",
   "mimetype": "text/x-python",
   "name": "python",
   "nbconvert_exporter": "python",
   "pygments_lexer": "ipython3",
   "version": "3.10.8"
  }
 },
 "nbformat": 4,
 "nbformat_minor": 5
}
