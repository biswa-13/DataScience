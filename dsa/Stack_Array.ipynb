{
 "cells": [
  {
   "cell_type": "code",
   "execution_count": 47,
   "id": "d03c646c-6087-4392-b291-d1d74287e192",
   "metadata": {},
   "outputs": [],
   "source": [
    "# Stack implementation using List/array\n",
    "\n",
    "class Stack:\n",
    "    def __init__(self, capacity=1):\n",
    "        self.top = -1 # initially the stack is smepty so top is -1\n",
    "        self.arr = [None]*capacity # to create a list with none as its elements\n",
    "        self.capacity = capacity\n",
    "        \n",
    "    def isEmpty(self):\n",
    "        return self.top == -1 \n",
    "    \n",
    "    def isFull(self):\n",
    "        return self.top ==  self.capacity-1\n",
    "    \n",
    "    def push(self, data):\n",
    "        if self.isFull():\n",
    "            print(\"Stack Overflow ...\")\n",
    "            return\n",
    "        self.top += 1\n",
    "        self.arr[self.top] = data\n",
    "        \n",
    "    def pop(self):\n",
    "        if self.isEmpty():\n",
    "            print(\"Stack Underflow ...\")\n",
    "            return\n",
    "        data =  self.arr[self.top]\n",
    "        self.top -= 1;\n",
    "        return data\n",
    "    \n",
    "    def pick(self):\n",
    "        if self.isEmpty():\n",
    "            print(\"Stack is empty ...\")\n",
    "            return\n",
    "        return self.arr[self.top]\n",
    "    \n",
    "    def traverse(self):\n",
    "        for i in range(self.top+1):\n",
    "            print(self.arr[i], end=\",\")"
   ]
  },
  {
   "cell_type": "code",
   "execution_count": 48,
   "id": "ea05be63-87af-4ba3-b204-bebf51cb18ef",
   "metadata": {},
   "outputs": [],
   "source": [
    "stack = Stack(5)\n"
   ]
  },
  {
   "cell_type": "code",
   "execution_count": 49,
   "id": "a939cd37-209b-4932-ad3f-7d33db8ab88f",
   "metadata": {},
   "outputs": [
    {
     "data": {
      "text/plain": [
       "(True, False)"
      ]
     },
     "execution_count": 49,
     "metadata": {},
     "output_type": "execute_result"
    }
   ],
   "source": [
    "stack.isEmpty(), stack.isFull()"
   ]
  },
  {
   "cell_type": "code",
   "execution_count": 50,
   "id": "e431f36b-dd25-4ef1-a7cc-1d0bc56bc63c",
   "metadata": {},
   "outputs": [],
   "source": [
    "stack.push(1)\n",
    "stack.push(2)\n",
    "stack.push(4)"
   ]
  },
  {
   "cell_type": "code",
   "execution_count": 51,
   "id": "94159b3d-ff5c-42a2-83ec-68f32beab754",
   "metadata": {},
   "outputs": [
    {
     "name": "stdout",
     "output_type": "stream",
     "text": [
      "1,2,4,"
     ]
    }
   ],
   "source": [
    "stack.traverse()"
   ]
  },
  {
   "cell_type": "code",
   "execution_count": 52,
   "id": "67725706-814a-4860-8fcd-ed367219f319",
   "metadata": {},
   "outputs": [
    {
     "data": {
      "text/plain": [
       "2"
      ]
     },
     "execution_count": 52,
     "metadata": {},
     "output_type": "execute_result"
    }
   ],
   "source": [
    "stack.pop()\n",
    "stack.pop()"
   ]
  },
  {
   "cell_type": "code",
   "execution_count": 53,
   "id": "7f8f2042-fe7c-4f0e-a2a6-694d98cd9568",
   "metadata": {},
   "outputs": [
    {
     "name": "stdout",
     "output_type": "stream",
     "text": [
      "1,"
     ]
    }
   ],
   "source": [
    "stack.traverse()"
   ]
  },
  {
   "cell_type": "code",
   "execution_count": 24,
   "id": "21ac7057-578e-4147-bcc0-898195cc5eb5",
   "metadata": {},
   "outputs": [
    {
     "name": "stdout",
     "output_type": "stream",
     "text": [
      "Stack Underflow ...\n",
      "Stack Underflow ...\n"
     ]
    }
   ],
   "source": [
    "stack.pop()\n",
    "stack.pop()"
   ]
  },
  {
   "cell_type": "code",
   "execution_count": null,
   "id": "1c495429-a86d-431f-8264-d190b1d31476",
   "metadata": {},
   "outputs": [],
   "source": []
  }
 ],
 "metadata": {
  "kernelspec": {
   "display_name": "Python 3 (ipykernel)",
   "language": "python",
   "name": "python3"
  },
  "language_info": {
   "codemirror_mode": {
    "name": "ipython",
    "version": 3
   },
   "file_extension": ".py",
   "mimetype": "text/x-python",
   "name": "python",
   "nbconvert_exporter": "python",
   "pygments_lexer": "ipython3",
   "version": "3.10.8"
  }
 },
 "nbformat": 4,
 "nbformat_minor": 5
}
